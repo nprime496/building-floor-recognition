{
  "cells": [
    {
      "cell_type": "markdown",
      "metadata": {
        "id": "view-in-github",
        "colab_type": "text"
      },
      "source": [
        "<a href=\"https://colab.research.google.com/github/nprime496/building-floor-recognition/blob/main/code/data_cleaning_audio_classification.ipynb\" target=\"_parent\"><img src=\"https://colab.research.google.com/assets/colab-badge.svg\" alt=\"Open In Colab\"/></a>"
      ]
    },
    {
      "cell_type": "markdown",
      "metadata": {
        "id": "Lhobyeh0FkAT"
      },
      "source": [
        "sortie de u-net avec plusieurs channels"
      ]
    },
    {
      "cell_type": "markdown",
      "metadata": {
        "id": "SsIKuyArEu5c"
      },
      "source": [
        "# BUILDING FLOOR RECOGNITION"
      ]
    },
    {
      "cell_type": "markdown",
      "metadata": {
        "id": "6aS7Huimtl_u"
      },
      "source": [
        "Inspired by https://colab.research.google.com/github/pytorch/tutorials/blob/gh-pages/_downloads/audio_classifier_tutorial.ipynb"
      ]
    },
    {
      "cell_type": "markdown",
      "metadata": {
        "id": "4sAfyFF7dWGm"
      },
      "source": [
        "# Table of Contents"
      ]
    },
    {
      "cell_type": "markdown",
      "metadata": {
        "colab_type": "toc",
        "id": "oSn197ZVDfmF"
      },
      "source": [
        ">[BUILDING FLOOR RECOGNITION](#scrollTo=SsIKuyArEu5c)\n",
        "\n",
        ">[Table of Contents](#scrollTo=4sAfyFF7dWGm)\n",
        "\n",
        ">[setup](#scrollTo=nogA7rji8GbZ)\n",
        "\n",
        ">[utils](#scrollTo=1o3-BVUy8-sF)\n",
        "\n",
        ">[Data](#scrollTo=pk-sYaYF7U9Y)\n",
        "\n",
        ">>[Clean Data source](#scrollTo=uHL0auVWCnL6)\n",
        "\n",
        ">>[Fetch cleaned dataset](#scrollTo=ALAyxPryCqFZ)\n",
        "\n",
        ">>[sample audio](#scrollTo=w9GlJyvB2SoK)\n",
        "\n",
        ">>[Modalities experimentations](#scrollTo=t46qlhPe2vHq)\n",
        "\n",
        ">>>[Raw](#scrollTo=9ZMbXtvfG7Sa)\n",
        "\n",
        ">>>[Spectrogram](#scrollTo=BAQnayGxG9vz)\n",
        "\n",
        ">>>[MFCC](#scrollTo=b5Vm59MxHBYF)\n",
        "\n",
        ">[Preprocessing & Packaging](#scrollTo=vg4POlOg2W6W)\n",
        "\n"
      ]
    },
    {
      "cell_type": "code",
      "execution_count": null,
      "metadata": {
        "id": "g2eUO2WFy0EG"
      },
      "outputs": [],
      "source": [
        "# https://stats.stackexchange.com/questions/559009/why-convert-spectrogram-to-rgb-for-machine-learning"
      ]
    },
    {
      "cell_type": "markdown",
      "metadata": {
        "id": "DlfxmXrCpenN"
      },
      "source": [
        "same buildings recording shall not be distributed between train and test sets"
      ]
    },
    {
      "cell_type": "markdown",
      "metadata": {
        "id": "zGfn9D-YEyAq"
      },
      "source": [
        "\n",
        "Remember:\n",
        "\n",
        "* Train with more data\n",
        "* Data Augmentation\n",
        "* adding noise to the input and ouput data\n",
        "* feature selection\n",
        "* cross-validation\n",
        "* simplify data\n",
        "* regularization\n",
        "* ensembling\n",
        "* early stopping\n",
        "* adding dropout layers\n"
      ]
    },
    {
      "cell_type": "markdown",
      "metadata": {
        "id": "nogA7rji8GbZ"
      },
      "source": [
        "# setup"
      ]
    },
    {
      "cell_type": "code",
      "execution_count": 5,
      "metadata": {
        "id": "b12ypdaE9bkv"
      },
      "outputs": [],
      "source": [
        "import random \n",
        "import os\n",
        "from copy import deepcopy"
      ]
    },
    {
      "cell_type": "code",
      "execution_count": 6,
      "metadata": {
        "id": "wC3nL-fUhTQ3"
      },
      "outputs": [],
      "source": [
        "import pandas as pd\n",
        "import seaborn as sns \n",
        "import numpy as np\n",
        "import matplotlib.pyplot as plt\n",
        "from sklearn.model_selection import train_test_split"
      ]
    },
    {
      "cell_type": "code",
      "execution_count": 7,
      "metadata": {
        "id": "dNvYhLb2hZx6"
      },
      "outputs": [],
      "source": [
        "from IPython.display import Audio, display\n",
        "from typing import Dict,Any"
      ]
    },
    {
      "cell_type": "code",
      "execution_count": 8,
      "metadata": {
        "colab": {
          "base_uri": "https://localhost:8080/"
        },
        "id": "6XmWUdzDCdEe",
        "outputId": "4997f1b6-90e5-4ec1-baa4-0c10ee508664"
      },
      "outputs": [
        {
          "output_type": "stream",
          "name": "stderr",
          "text": [
            "/usr/local/lib/python3.7/dist-packages/resampy/interpn.py:114: NumbaWarning: The TBB threading layer requires TBB version 2019.5 or later i.e., TBB_INTERFACE_VERSION >= 11005. Found TBB_INTERFACE_VERSION = 9107. The TBB threading layer is disabled.\n",
            "  _resample_loop_p(x, t_out, interp_win, interp_delta, num_table, scale, y)\n"
          ]
        }
      ],
      "source": [
        "import librosa\n"
      ]
    },
    {
      "cell_type": "code",
      "execution_count": 10,
      "metadata": {
        "id": "KsmRpvV_7Kxl"
      },
      "outputs": [],
      "source": [
        "def seed_all(SEED_VAL=1):\n",
        "        random.seed(SEED_VAL)\n",
        "        np.random.seed(SEED_VAL)\n",
        "        os.environ['PYTHONHASHSEED'] = str(SEED_VAL)"
      ]
    },
    {
      "cell_type": "code",
      "execution_count": 11,
      "metadata": {
        "id": "K3y2r0nG7Lo9"
      },
      "outputs": [],
      "source": [
        "seed_all(496)"
      ]
    },
    {
      "cell_type": "code",
      "execution_count": 12,
      "metadata": {
        "id": "A4MGWS_h8zOR",
        "colab": {
          "base_uri": "https://localhost:8080/"
        },
        "outputId": "a4c89b48-4b60-485d-e3b6-84ef31661b02"
      },
      "outputs": [
        {
          "output_type": "stream",
          "name": "stdout",
          "text": [
            "Looking in indexes: https://pypi.org/simple, https://us-python.pkg.dev/colab-wheels/public/simple/\n",
            "Collecting pydub\n",
            "  Downloading pydub-0.25.1-py2.py3-none-any.whl (32 kB)\n",
            "Installing collected packages: pydub\n",
            "Successfully installed pydub-0.25.1\n"
          ]
        }
      ],
      "source": [
        "!pip install pydub"
      ]
    },
    {
      "cell_type": "code",
      "execution_count": 13,
      "metadata": {
        "id": "bU2ccNbU83DH",
        "colab": {
          "base_uri": "https://localhost:8080/"
        },
        "outputId": "1812550b-4d96-45ae-88b6-53946471e6d2"
      },
      "outputs": [
        {
          "output_type": "stream",
          "name": "stdout",
          "text": [
            "/content\n"
          ]
        }
      ],
      "source": [
        "# show current directory\n",
        "!pwd"
      ]
    },
    {
      "cell_type": "markdown",
      "metadata": {
        "id": "1o3-BVUy8-sF"
      },
      "source": [
        "# utils"
      ]
    },
    {
      "cell_type": "code",
      "source": [
        "class bcolors:\n",
        "    HEADER = '\\033[95m'\n",
        "    OKBLUE = '\\033[94m'\n",
        "    OKCYAN = '\\033[96m'\n",
        "    OKGREEN = '\\033[92m'\n",
        "    WARNING = '\\033[93m'\n",
        "    FAIL = '\\033[91m'\n",
        "    ENDC = '\\033[0m'\n",
        "    BOLD = '\\033[1m'\n",
        "    UNDERLINE = '\\033[4m'"
      ],
      "metadata": {
        "id": "sOL4q9icmeoN"
      },
      "execution_count": null,
      "outputs": []
    },
    {
      "cell_type": "code",
      "execution_count": null,
      "metadata": {
        "id": "OZjXfGNLCIPH"
      },
      "outputs": [],
      "source": [
        "def print_stats(waveform, sample_rate=None, src=None):\n",
        "  if src:\n",
        "    print(\"-\" * 10)\n",
        "    print(\"Source:\", src)\n",
        "    print(\"-\" * 10)\n",
        "  if sample_rate:\n",
        "    print(\"Sample Rate:\", sample_rate)\n",
        "  print(\"Shape:\", tuple(waveform.shape))\n",
        "  print(\"Dtype:\", waveform.dtype)\n",
        "  print(f\" - Max:     {waveform.max().item():6.3f}\")\n",
        "  print(f\" - Min:     {waveform.min().item():6.3f}\")\n",
        "  print(f\" - Mean:    {waveform.mean().item():6.3f}\")\n",
        "  print(f\" - Std Dev: {waveform.std().item():6.3f}\")\n",
        "  print()\n",
        "  print(waveform)\n",
        "  print()\n"
      ]
    },
    {
      "cell_type": "code",
      "execution_count": null,
      "metadata": {
        "id": "W2x70cDg8_7d"
      },
      "outputs": [],
      "source": [
        "def plot_waveform(waveform, sample_rate, title=\"Waveform\", xlim=None, ylim=None):\n",
        "  waveform = waveform.numpy()\n",
        "\n",
        "  num_channels, num_frames = waveform.shape\n",
        "  time_axis = torch.arange(0, num_frames) / sample_rate\n",
        "\n",
        "  figure, axes = plt.subplots(num_channels, 1)\n",
        "  if num_channels == 1:\n",
        "    axes = [axes]\n",
        "  for c in range(num_channels):\n",
        "    axes[c].plot(time_axis, waveform[c], linewidth=1)\n",
        "    axes[c].grid(True)\n",
        "    if num_channels > 1:\n",
        "      axes[c].set_ylabel(f'Channel {c+1}')\n",
        "    if xlim:\n",
        "      axes[c].set_xlim(xlim)\n",
        "    if ylim:\n",
        "      axes[c].set_ylim(ylim)\n",
        "  figure.suptitle(title)\n",
        "  plt.show(block=False)\n"
      ]
    },
    {
      "cell_type": "code",
      "execution_count": null,
      "metadata": {
        "id": "mNQVDM0rCC7V"
      },
      "outputs": [],
      "source": [
        "def plot_spectrogram(spec, title=None, ylabel='freq_bin', aspect='auto', xmax=None):\n",
        "  fig, axs = plt.subplots(1, 1)\n",
        "  axs.set_title(title or 'Spectrogram (db)')\n",
        "  axs.set_ylabel(ylabel)\n",
        "  axs.set_xlabel('frame')\n",
        "  im = axs.imshow(librosa.power_to_db(spec), origin='lower', aspect=aspect)\n",
        "  if xmax:\n",
        "    axs.set_xlim((0, xmax))\n",
        "  fig.colorbar(im, ax=axs)\n",
        "  plt.show(block=False)\n"
      ]
    },
    {
      "cell_type": "code",
      "execution_count": null,
      "metadata": {
        "id": "vnNymbcK_ZQz"
      },
      "outputs": [],
      "source": [
        "\n",
        "def plot_specgram(waveform, sample_rate, title=\"Spectrogram\", xlim=None):\n",
        "  waveform = waveform.numpy()\n",
        "\n",
        "  num_channels, num_frames = waveform.shape\n",
        "  time_axis = torch.arange(0, num_frames) / sample_rate\n",
        "\n",
        "  figure, axes = plt.subplots(num_channels, 1)\n",
        "  if num_channels == 1:\n",
        "    axes = [axes]\n",
        "  for c in range(num_channels):\n",
        "    axes[c].specgram(waveform[c], Fs=sample_rate)\n",
        "    if num_channels > 1:\n",
        "      axes[c].set_ylabel(f'Channel {c+1}')\n",
        "    if xlim:\n",
        "      axes[c].set_xlim(xlim)\n",
        "  figure.suptitle(title)\n",
        "  plt.show(block=False)\n"
      ]
    },
    {
      "cell_type": "code",
      "execution_count": null,
      "metadata": {
        "id": "vgjP5Vmk_5zG"
      },
      "outputs": [],
      "source": [
        "def play_audio(waveform, sample_rate):\n",
        "  waveform = waveform.numpy()\n",
        "\n",
        "  num_channels, num_frames = waveform.shape\n",
        "  if num_channels == 1:\n",
        "    display(Audio(waveform[0], rate=sample_rate))\n",
        "  elif num_channels == 2:\n",
        "    display(Audio((waveform[0], waveform[1]), rate=sample_rate))\n",
        "  else:\n",
        "    raise ValueError(\"Waveform with more than 2 channels are not supported.\")\n"
      ]
    },
    {
      "cell_type": "markdown",
      "metadata": {
        "id": "pk-sYaYF7U9Y"
      },
      "source": [
        "# Data "
      ]
    },
    {
      "cell_type": "markdown",
      "metadata": {
        "id": "uHL0auVWCnL6"
      },
      "source": [
        "## Clean Data source"
      ]
    },
    {
      "cell_type": "code",
      "execution_count": 1,
      "metadata": {
        "id": "CrfL-74ax21P",
        "colab": {
          "base_uri": "https://localhost:8080/"
        },
        "outputId": "fd7f1e20-7b2d-4906-fd60-4b5ef4880241"
      },
      "outputs": [
        {
          "output_type": "stream",
          "name": "stdout",
          "text": [
            "rm: cannot remove 'Data': No such file or directory\n"
          ]
        }
      ],
      "source": [
        "!rm -r Data"
      ]
    },
    {
      "cell_type": "code",
      "execution_count": 2,
      "metadata": {
        "id": "Flzlah6oHcIu",
        "colab": {
          "base_uri": "https://localhost:8080/"
        },
        "outputId": "63ce503d-0537-4fa9-8a3b-c21c43dbf857"
      },
      "outputs": [
        {
          "output_type": "stream",
          "name": "stdout",
          "text": [
            "--2022-07-19 13:40:26--  http://aptikal.imag.fr/~amini/R+3.tar.bz2\n",
            "Resolving aptikal.imag.fr (aptikal.imag.fr)... 129.88.12.12, 2001:660:5301:61::12:12\n",
            "Connecting to aptikal.imag.fr (aptikal.imag.fr)|129.88.12.12|:80... connected.\n",
            "HTTP request sent, awaiting response... 200 OK\n",
            "Length: 16925918 (16M) [application/x-bzip2]\n",
            "Saving to: ‘R+3.tar.bz2’\n",
            "\n",
            "R+3.tar.bz2         100%[===================>]  16.14M  11.7MB/s    in 1.4s    \n",
            "\n",
            "2022-07-19 13:40:28 (11.7 MB/s) - ‘R+3.tar.bz2’ saved [16925918/16925918]\n",
            "\n",
            "._R+3\n",
            "R+3/\n",
            "R+3/._Esquissons_EC07A_1.wav\n",
            "R+3/Esquissons_EC07A_1.wav\n",
            "R+3/._Esquissons_EC07A_2.wav\n",
            "R+3/Esquissons_EC07A_2.wav\n",
            "R+3/._Esquissons_FV02.wav\n",
            "R+3/Esquissons_FV02.wav\n",
            "R+3/._Esquissons_EC11.wav\n",
            "R+3/Esquissons_EC11.wav\n",
            "R+3/._Esquissons_CB05S01.wav\n",
            "R+3/Esquissons_CB05S01.wav\n",
            "R+3/._Esquissons_VM09.wav\n",
            "R+3/Esquissons_VM09.wav\n",
            "R+3/._Esquissons_FV03B.wav\n",
            "R+3/Esquissons_FV03B.wav\n",
            "R+3/._Esquissons_VM03_1.wav\n",
            "R+3/Esquissons_VM03_1.wav\n",
            "R+3/._Esquissons_EC08B_1.wav\n",
            "R+3/Esquissons_EC08B_1.wav\n",
            "R+3/._Esquissons_EC10_2.wav\n",
            "R+3/Esquissons_EC10_2.wav\n",
            "R+3/._Esquissons_EC08B_2.wav\n",
            "R+3/Esquissons_EC08B_2.wav\n",
            "R+3/._Esquissons_EC10_1.wav\n",
            "R+3/Esquissons_EC10_1.wav\n"
          ]
        }
      ],
      "source": [
        "!wget http://aptikal.imag.fr/~amini/R+3.tar.bz2\n",
        "!tar xvf R+3.tar.bz2\n",
        "!rm R+3.tar.bz2"
      ]
    },
    {
      "cell_type": "code",
      "execution_count": 14,
      "metadata": {
        "id": "e1HCfNoUJrli",
        "colab": {
          "base_uri": "https://localhost:8080/"
        },
        "outputId": "d27cd5dd-c9f3-4e5a-9cd9-2d1eaf375971"
      },
      "outputs": [
        {
          "output_type": "stream",
          "name": "stdout",
          "text": [
            "R+3 [] ['Esquissons_EC10_2.wav', '._Esquissons_EC10_2.wav', 'Esquissons_EC07A_2.wav', 'Esquissons_EC08B_2.wav', 'Esquissons_VM03_1.wav', '._Esquissons_EC08B_2.wav', 'Esquissons_FV03B.wav', '._Esquissons_EC07A_1.wav', 'Esquissons_FV02.wav', '._Esquissons_CB05S01.wav', '._Esquissons_VM03_1.wav', '._Esquissons_EC08B_1.wav', 'Esquissons_CB05S01.wav', '._Esquissons_VM09.wav', 'Esquissons_EC11.wav', '._Esquissons_FV03B.wav', 'Esquissons_EC07A_1.wav', 'Esquissons_EC08B_1.wav', '._Esquissons_EC10_1.wav', '._Esquissons_EC07A_2.wav', 'Esquissons_EC10_1.wav', '._Esquissons_FV02.wav', '._Esquissons_EC11.wav', 'Esquissons_VM09.wav']\n",
            "EC10_2\n",
            "EC07A_2\n",
            "EC08B_2\n",
            "VM03_1\n",
            "FV03B\n",
            "FV02\n",
            "CB05S01\n",
            "EC11\n",
            "EC07A_1\n",
            "EC08B_1\n",
            "EC10_1\n",
            "VM09\n"
          ]
        }
      ],
      "source": [
        "for root,dirs,file in os.walk(\"R+3\"):\n",
        "  print(root,dirs,file)\n",
        "  for f in file:\n",
        "    if f[0]!='.':\n",
        "      dirname = f.split(\".\")[0][11:]\n",
        "      print(dirname)\n",
        "      os.mkdir(f\"R+3/{dirname}\")\n",
        "      os.rename(f\"R+3/{f}\",f\"R+3/{dirname}/{f}\")"
      ]
    },
    {
      "cell_type": "code",
      "execution_count": 15,
      "metadata": {
        "id": "eDuskrFch5wV",
        "colab": {
          "base_uri": "https://localhost:8080/"
        },
        "outputId": "00e3cd9e-0304-4b62-d222-d5c7cdbd3301"
      },
      "outputs": [
        {
          "output_type": "stream",
          "name": "stdout",
          "text": [
            "--2022-07-19 13:41:52--  https://aptikal.imag.fr/~amini/Data.zip\n",
            "Resolving aptikal.imag.fr (aptikal.imag.fr)... 129.88.12.12, 2001:660:5301:61::12:12\n",
            "Connecting to aptikal.imag.fr (aptikal.imag.fr)|129.88.12.12|:443... connected.\n",
            "HTTP request sent, awaiting response... 200 OK\n",
            "Length: 147384293 (141M) [application/zip]\n",
            "Saving to: ‘Data.zip’\n",
            "\n",
            "Data.zip            100%[===================>] 140.56M  25.2MB/s    in 6.4s    \n",
            "\n",
            "2022-07-19 13:41:59 (22.0 MB/s) - ‘Data.zip’ saved [147384293/147384293]\n",
            "\n"
          ]
        }
      ],
      "source": [
        "# Unzip dataset\n",
        "!wget https://aptikal.imag.fr/~amini/Data.zip \n",
        "!unzip -o -qqq Data.zip\n",
        "!rm Data.zip\n",
        "!unzip -o -qqq Data/R+1.zip\n",
        "!rm Data/R+1.zip\n",
        "!unzip -o -qqq Data/R+5.zip \n",
        "!rm  -r Data/R+5.zip\n",
        "!rm -r Data"
      ]
    },
    {
      "cell_type": "code",
      "execution_count": 16,
      "metadata": {
        "id": "lNt-NR2KysaC"
      },
      "outputs": [],
      "source": [
        "from pydub import AudioSegment \n",
        "from pydub.utils import make_chunks\n",
        "import os\n",
        "\n",
        "def process_sudio(file_name,chunk_length_ms):\n",
        "    myaudio = AudioSegment.from_file(file_name, \"wav\") \n",
        "    #chunk_length_ms = 5000 # pydub calculates in millisec \n",
        "    chunks = make_chunks(myaudio,chunk_length_ms) #Make chunks of chunk_length_ms/1000 sec \n",
        "    # print(len(chunks[5]))\n",
        "    for i, chunk in enumerate(chunks):\n",
        "        if len(chunk)>(chunk_length_ms//2):\n",
        "          chunk_name = './' + file_name + \"_{0}.wav\".format(i) \n",
        "          print (\"exporting\", chunk_name) \n",
        "          chunk.export(chunk_name, format=\"wav\") \n"
      ]
    },
    {
      "cell_type": "code",
      "execution_count": 17,
      "metadata": {
        "id": "y9pCtOlVicye"
      },
      "outputs": [],
      "source": [
        "from glob import glob \n",
        "import re\n",
        "\n",
        "# This piece of code divide folders having multiple wav samples as another batiment samples\n",
        "\n",
        "os.chdir(\"/content/\")\n",
        "for floor in [1,5]:\n",
        "  cur_dir=f\"R+{floor}\"\n",
        "  for (root,dirs,files) in os.walk(cur_dir):\n",
        "    for dir in dirs:\n",
        "      cur_bat = os.path.join(root,dir)\n",
        "      os.chdir(cur_bat)\n",
        "      if len(glob(\"*.wav\"))==2:\n",
        "        os.chdir(\"/content/\")\n",
        "        try:\n",
        "          os.mkdir(cur_bat+\"_2\")\n",
        "        except:\n",
        "          pass\n",
        "        all_files = glob(os.path.join(cur_bat,\"*\"+dir.split(\"_\")[0]+\"*_2*\"))\n",
        "        _ = [os.rename(os.path.join(f) ,os.path.join(cur_bat+\"_2\",f.split(\"/\")[-1])) for f in all_files]\n",
        "        os.rename(cur_bat,cur_bat+\"_1\")\n",
        "      os.chdir(\"/content/\")\n",
        "    break"
      ]
    },
    {
      "cell_type": "code",
      "execution_count": 18,
      "metadata": {
        "id": "Rs_EEgab3gs8"
      },
      "outputs": [],
      "source": [
        "# Remove unused files \n",
        "os.chdir(\"/content/\")\n",
        "for floor in [1,3,5]:\n",
        "  cur_dir=f\"R+{floor}\"\n",
        "  for (root,dirs,files) in os.walk(cur_dir):\n",
        "    [os.remove(os.path.join(root,f)) for f in files if (not (f.endswith(\".wav\")) or f[0]=='.')]"
      ]
    },
    {
      "cell_type": "code",
      "execution_count": 19,
      "metadata": {
        "id": "_TYPLUaB_6dC"
      },
      "outputs": [],
      "source": [
        "# Store files in new folder Data\n",
        "!mkdir Data\n",
        "!mv R+1 Data/R+1\n",
        "!mv R+5 Data/R+5\n",
        "!mv R+3 Data/R+3"
      ]
    },
    {
      "cell_type": "code",
      "execution_count": null,
      "metadata": {
        "id": "wSIk18au7m31"
      },
      "outputs": [],
      "source": [
        "# !zip Data_original.zip -r Data"
      ]
    },
    {
      "cell_type": "code",
      "execution_count": null,
      "metadata": {
        "id": "TKhc06xd6whq"
      },
      "outputs": [],
      "source": [
        "# split files \n",
        "os.chdir(\"/content/Data\")\n",
        "for floor in [1,3,5]:\n",
        "  cur_dir=os.path.join(f\"R+{floor}\")\n",
        "  for (root,dirs,files) in os.walk(cur_dir):\n",
        "    for f in files:\n",
        "      try:\n",
        "        if f.endswith(\".wav\"):\n",
        "          process_sudio(os.path.join(root,f))\n",
        "          #d[\"samples\"].append(os.path.join(root,f))\n",
        "          #d[\"floor\"].append(floor)\n",
        "      except Exception as e:\n",
        "        print(f)\n",
        "        raise e\n",
        "os.chdir(\"/content/\")"
      ]
    },
    {
      "cell_type": "code",
      "execution_count": null,
      "metadata": {
        "id": "aHRA5CJ8NfiX"
      },
      "outputs": [],
      "source": [
        "# !zip Data_chunked.zip -r Data"
      ]
    },
    {
      "cell_type": "code",
      "execution_count": null,
      "metadata": {
        "id": "UhgZqPFj3p8G"
      },
      "outputs": [],
      "source": [
        "# d={\"samples\":[],\"floor\":[]}\n",
        "# d2={\"images\":[],\"floor\":[]}\n",
        "\n",
        "# os.chdir(\"/content/Data\")\n",
        "# for floor in [1,3,5]:\n",
        "#   cur_dir=os.path.join(f\"R+{floor}\")\n",
        "#   for (root,dirs,files) in os.walk(cur_dir):\n",
        "#     for f in files:\n",
        "#       #print(f)\n",
        "#       if f.endswith(\"speccol.jpg\"):\n",
        "#         d2[\"images\"].append(os.path.join(root,f))\n",
        "#         d2[\"floor\"].append(floor)\n",
        "#       if \".wav_\" in f:\n",
        "#         #process_sudio(os.path.join(root,f))\n",
        "#         d[\"samples\"].append(os.path.join(root,f))\n",
        "#         d[\"floor\"].append(floor)\n",
        "# os.chdir(\"/content/\")"
      ]
    },
    {
      "cell_type": "code",
      "execution_count": null,
      "metadata": {
        "id": "tuctcv47nJ07"
      },
      "outputs": [],
      "source": [
        "# raw_dataset2 = pd.DataFrame.from_dict(d2)\n",
        "# image_dataset = raw_dataset2.sample(frac=1).reset_index(drop=True)\n",
        "# image_dataset.floor.replace({1:0,5:1},inplace=True)\n",
        "# image_dataset.head()"
      ]
    },
    {
      "cell_type": "code",
      "execution_count": null,
      "metadata": {
        "id": "rG3I3UamTycH"
      },
      "outputs": [],
      "source": [
        "# def clean(x):\n",
        "#   s=x.split(\"/\")[1].split(\"_\")\n",
        "#   if len(s)==3:\n",
        "#     return \"_\".join(s[:2])\n",
        "#   return s[0]"
      ]
    },
    {
      "cell_type": "code",
      "execution_count": null,
      "metadata": {
        "id": "5HZvmBJI7Hu9"
      },
      "outputs": [],
      "source": [
        "# # shuffle and replace labels\n",
        "# raw_dataset = pd.DataFrame.from_dict(d)\n",
        "# dataset = raw_dataset.copy()\n",
        "# dataset['building']=raw_dataset.samples.apply(clean)\n",
        "# dataset = dataset.sample(frac=1).reset_index(drop=True)\n",
        "# dataset.to_csv(\"building_floor_recognition_chunked.csv\",index=False)\n",
        "# dataset.head()"
      ]
    },
    {
      "cell_type": "code",
      "execution_count": null,
      "metadata": {
        "id": "ByzgoQNibzks"
      },
      "outputs": [],
      "source": [
        "# dataset.shape"
      ]
    },
    {
      "cell_type": "markdown",
      "metadata": {
        "id": "ALAyxPryCqFZ"
      },
      "source": [
        "## Fetch cleaned dataset"
      ]
    },
    {
      "cell_type": "code",
      "execution_count": null,
      "metadata": {
        "id": "vnXk0JBdJ0GD"
      },
      "outputs": [],
      "source": [
        "!rm -r Data/\n",
        "!rm building_floor_recognition_chunked.csv"
      ]
    },
    {
      "cell_type": "code",
      "execution_count": null,
      "metadata": {
        "id": "9DjVv4-FEXdv"
      },
      "outputs": [],
      "source": [
        "!wget https://huggingface.co/datasets/nprime496/building_floor_classification/resolve/main/Data_chunked.zip\n",
        "!wget https://huggingface.co/datasets/nprime496/building_floor_classification/resolve/main/building_floor_recognition_chunked.csv\n",
        "!unzip -o -qqq Data_chunked.zip \n",
        "!rm Data_chunked.zip"
      ]
    },
    {
      "cell_type": "code",
      "execution_count": null,
      "metadata": {
        "id": "4tiQ_-QT9DDE"
      },
      "outputs": [],
      "source": [
        "raw_dataset = pd.read_csv(\"building_floor_recognition_chunked.csv\")\n",
        "dataset = raw_dataset.copy()\n",
        "dataset.floor.replace({1:0,3:1,5:2},inplace=True)\n",
        "dataset.head(10)"
      ]
    },
    {
      "cell_type": "code",
      "execution_count": null,
      "metadata": {
        "id": "MyznVF2RUlHi"
      },
      "outputs": [],
      "source": [
        "raw_dataset.building.sample(2).values"
      ]
    },
    {
      "cell_type": "code",
      "execution_count": null,
      "metadata": {
        "id": "Tw6ciKyRUVAf"
      },
      "outputs": [],
      "source": [
        "#raw_dataset[raw_dataset.building.isin(raw_dataset.building.sample(2).values)]"
      ]
    },
    {
      "cell_type": "code",
      "execution_count": null,
      "metadata": {
        "id": "swp1uuNwPhAS"
      },
      "outputs": [],
      "source": [
        "\n",
        "sns.countplot(dataset.floor)"
      ]
    },
    {
      "cell_type": "code",
      "execution_count": null,
      "metadata": {
        "id": "a9yikcUd3G0f"
      },
      "outputs": [],
      "source": [
        "dataset.shape"
      ]
    },
    {
      "cell_type": "markdown",
      "metadata": {
        "id": "w9GlJyvB2SoK"
      },
      "source": [
        "## sample audio"
      ]
    },
    {
      "cell_type": "code",
      "execution_count": null,
      "metadata": {
        "id": "UleTaHXv8Vx6"
      },
      "outputs": [],
      "source": [
        "# sample wav for testing purposes\n",
        "sampled = raw_dataset.sample(1)\n",
        "SAMPLE_WAV_PATH=os.path.join(\"/content\",\"Data\",sampled.samples.values[0])"
      ]
    },
    {
      "cell_type": "code",
      "execution_count": null,
      "metadata": {
        "id": "zCHtWVS38UgZ"
      },
      "outputs": [],
      "source": [
        "metadata = torchaudio.info(SAMPLE_WAV_PATH,format=\"wav\")\n",
        "print(metadata)"
      ]
    },
    {
      "cell_type": "code",
      "execution_count": null,
      "metadata": {
        "id": "ck9EZfPB8tOS"
      },
      "outputs": [],
      "source": [
        "waveform,sample_rate = torchaudio.load(SAMPLE_WAV_PATH,format=\"wav\")\n",
        "print_stats(waveform,sample_rate)"
      ]
    },
    {
      "cell_type": "code",
      "execution_count": null,
      "metadata": {
        "id": "2sDlFN8UAC7K"
      },
      "outputs": [],
      "source": [
        "play_audio(waveform,sample_rate)\n",
        "print(\"Etage \",sampled.floor.values[0])"
      ]
    },
    {
      "cell_type": "code",
      "execution_count": null,
      "metadata": {
        "id": "86mTTt93UfqX"
      },
      "outputs": [],
      "source": [
        "import librosa.display\n",
        "\n",
        "dat2, sampling_rate2 = librosa.load(os.path.join(\"/content/Data\",sampled.samples.values[0]))\n",
        "plt.figure(figsize=(20, 10))\n",
        "D = librosa.amplitude_to_db(np.abs(librosa.stft(dat2)), ref=np.max)\n",
        "plt.subplot(4, 2, 1)\n",
        "librosa.display.specshow(D, y_axis='linear')\n",
        "plt.colorbar(format='%+2.0f dB')\n",
        "plt.title('Linear-frequency power spectrogram')"
      ]
    },
    {
      "cell_type": "code",
      "execution_count": null,
      "metadata": {
        "id": "sSO7G5E0XdrX"
      },
      "outputs": [],
      "source": [
        "D.shape"
      ]
    },
    {
      "cell_type": "code",
      "execution_count": null,
      "metadata": {
        "id": "EsrlYGuczw5D"
      },
      "outputs": [],
      "source": [
        "\n",
        "# path=os.path.join(\"/content\",\"Data\",\"R+1\",\"CB01_2\",\"Esquissons_CB01_2.wav\")\n",
        "# waveform,sample_rate = torchaudio.load(path,format=\"wav\")\n",
        "# play_audio(waveform,sample_rate)"
      ]
    },
    {
      "cell_type": "markdown",
      "metadata": {
        "id": "t46qlhPe2vHq"
      },
      "source": [
        "## Modalities experimentations"
      ]
    },
    {
      "cell_type": "markdown",
      "metadata": {
        "id": "9ZMbXtvfG7Sa"
      },
      "source": [
        "### Raw"
      ]
    },
    {
      "cell_type": "code",
      "execution_count": null,
      "metadata": {
        "id": "mf5W_e8D72eZ"
      },
      "outputs": [],
      "source": [
        "# plot raw waveform\n",
        "\n",
        "plot_waveform(waveform,sample_rate=sample_rate)"
      ]
    },
    {
      "cell_type": "code",
      "execution_count": null,
      "metadata": {
        "id": "VB2FZhqhrWUA"
      },
      "outputs": [],
      "source": [
        "waveform.shape"
      ]
    },
    {
      "cell_type": "code",
      "execution_count": null,
      "metadata": {
        "id": "8hQTDhcXwYhD"
      },
      "outputs": [],
      "source": [
        "random.uniform(0.85,1.15)"
      ]
    },
    {
      "cell_type": "code",
      "execution_count": null,
      "metadata": {
        "id": "-7hYQkZswcJa"
      },
      "outputs": [],
      "source": [
        "random.choice([1.1,1.2])"
      ]
    },
    {
      "cell_type": "code",
      "execution_count": null,
      "metadata": {
        "id": "ub6DFWnUvPBf"
      },
      "outputs": [],
      "source": [
        "\n",
        "effects = [\n",
        "    [\"lowpass\", \"-1\", \"300\"],  # apply single-pole lowpass filter\n",
        "    [\"speed\", str(random.choice([0.85,0.9,0.95,1.15,1.05]))],  # reduce the speed\n",
        "    # This only changes sample rate, so it is necessary to\n",
        "    # add `rate` effect with original sample rate after this.\n",
        "    ['gain', '-n', str(random.choice([-10,-5,0,5,10]))],  # apply 10 db attenuation\n",
        "\n",
        "    [\"rate\", f\"{sample_rate}\"],\n",
        "    [\"reverb\", \"-w\"],  # Reverbration gives some dramatic feeling\n",
        "]\n",
        "\n",
        "# Apply effects\n",
        "waveform2, sample_rate2 = torchaudio.sox_effects.apply_effects_tensor(waveform, sample_rate, effects)\n"
      ]
    },
    {
      "cell_type": "code",
      "execution_count": null,
      "metadata": {
        "id": "R0bUC4izvd_M"
      },
      "outputs": [],
      "source": [
        "sample_rate2"
      ]
    },
    {
      "cell_type": "code",
      "execution_count": null,
      "metadata": {
        "id": "qFk3FIVwvYlr"
      },
      "outputs": [],
      "source": [
        "play_audio(waveform2,sample_rate2)"
      ]
    },
    {
      "cell_type": "code",
      "execution_count": null,
      "metadata": {
        "id": "Qgrqz1u1znFl"
      },
      "outputs": [],
      "source": [
        "play_audio(waveform2,sample_rate2)"
      ]
    },
    {
      "cell_type": "markdown",
      "metadata": {
        "id": "BAQnayGxG9vz"
      },
      "source": [
        "### Spectrogram"
      ]
    },
    {
      "cell_type": "code",
      "execution_count": null,
      "metadata": {
        "id": "aEK5l2NaAmn4"
      },
      "outputs": [],
      "source": [
        "n_fft = 1024\n",
        "win_length = 1024\n",
        "hop_length = None\n",
        "\n",
        "# define transformation\n",
        "spectrogram = T.Spectrogram(\n",
        "    n_fft=n_fft,\n",
        "    win_length=win_length,\n",
        "    hop_length=hop_length,\n",
        "    center=True,\n",
        "    pad_mode=\"reflect\",\n",
        "    power=2.0,\n",
        "    normalized=False,\n",
        ")\n",
        "\n",
        "# define transformation\n",
        "spectrogram_norm = T.Spectrogram(\n",
        "    n_fft=n_fft,\n",
        "    win_length=win_length,\n",
        "    hop_length=hop_length,\n",
        "    center=True,\n",
        "    pad_mode=\"reflect\",\n",
        "    power=2.0,\n",
        "    normalized=True,\n",
        ")\n",
        "# Perform transformation\n",
        "spec1 = spectrogram(waveform)\n",
        "# Perform transformation\n",
        "spec2 = spectrogram_norm(waveform)\n",
        "\n",
        "\n",
        "print_stats(spec1)\n",
        "print_stats(spec2)\n",
        "plot_spectrogram(spec1[0], title='spectrogram ')\n",
        "plot_spectrogram(spec2[0], title='spectrogram normalized')"
      ]
    },
    {
      "cell_type": "code",
      "execution_count": null,
      "metadata": {
        "id": "hp5vNuk5f3a_"
      },
      "outputs": [],
      "source": [
        "spec2[0].max()"
      ]
    },
    {
      "cell_type": "code",
      "execution_count": null,
      "metadata": {
        "id": "QNb0uGzzf6Rx"
      },
      "outputs": [],
      "source": [
        "spec1[0].max()"
      ]
    },
    {
      "cell_type": "markdown",
      "metadata": {
        "id": "b5Vm59MxHBYF"
      },
      "source": [
        "### MFCC"
      ]
    },
    {
      "cell_type": "code",
      "execution_count": null,
      "metadata": {
        "id": "htODMX9NAmU1"
      },
      "outputs": [],
      "source": [
        "\n",
        "n_fft = 2048\n",
        "win_length = None\n",
        "hop_length = 512\n",
        "n_mels = 256\n",
        "n_mfcc = 256\n",
        "\n",
        "mfcc_transform = T.MFCC(\n",
        "    sample_rate=sample_rate,\n",
        "    n_mfcc=n_mfcc,\n",
        "    melkwargs={\n",
        "      'n_fft': n_fft,\n",
        "      'n_mels': n_mels,\n",
        "      'hop_length': hop_length,\n",
        "      'mel_scale': 'htk',\n",
        "    }\n",
        ")\n",
        "\n",
        "mfcc = mfcc_transform(waveform)\n",
        "print_stats(mfcc)\n",
        "plot_spectrogram(mfcc[0])"
      ]
    },
    {
      "cell_type": "code",
      "execution_count": null,
      "metadata": {
        "id": "EcAK4bfl7gzN"
      },
      "outputs": [],
      "source": [
        "from torchaudio.transforms import MFCC"
      ]
    },
    {
      "cell_type": "code",
      "execution_count": null,
      "metadata": {
        "id": "25BhGTQL2wVW"
      },
      "outputs": [],
      "source": [
        "def clean_mfcc(data):\n",
        "  pass\n",
        "\n",
        "def clean_spectrogram(data):\n",
        "  pass"
      ]
    },
    {
      "cell_type": "markdown",
      "metadata": {
        "id": "vg4POlOg2W6W"
      },
      "source": [
        "# Preprocessing & Packaging"
      ]
    },
    {
      "cell_type": "markdown",
      "metadata": {
        "id": "ggjiEKS9uJvM"
      },
      "source": [
        "check \n",
        "* https://jonathanbgn.com/2021/08/30/audio-augmentation.html\n",
        "* https://developers.deepgram.com/blog/2022/06/pytorch-intro-with-torchaudio/"
      ]
    }
  ],
  "metadata": {
    "accelerator": "GPU",
    "colab": {
      "collapsed_sections": [],
      "name": "data_cleaning_audio_classification.ipynb",
      "provenance": [],
      "toc_visible": true,
      "include_colab_link": true
    },
    "gpuClass": "standard",
    "kernelspec": {
      "display_name": "Python 3",
      "name": "python3"
    },
    "language_info": {
      "name": "python"
    }
  },
  "nbformat": 4,
  "nbformat_minor": 0
}